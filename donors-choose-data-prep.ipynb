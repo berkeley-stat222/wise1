{
 "cells": [
  {
   "cell_type": "code",
   "execution_count": 1,
   "metadata": {
    "collapsed": true
   },
   "outputs": [],
   "source": [
    "from __future__ import division\n",
    "import pandas as pd\n",
    "import numpy as np\n",
    "import matplotlib.pyplot as plt\n",
    "import pylab\n",
    "import re\n",
    "import string\n",
    "from operator import itemgetter\n",
    "from pandas import *"
   ]
  },
  {
   "cell_type": "markdown",
   "metadata": {},
   "source": [
    "# ---------------------------------------------------------------------------\n",
    "# Data Preparation\n",
    "# ---------------------------------------------------------------------------"
   ]
  },
  {
   "cell_type": "markdown",
   "metadata": {},
   "source": [
    "Global variables"
   ]
  },
  {
   "cell_type": "code",
   "execution_count": 2,
   "metadata": {
    "collapsed": true
   },
   "outputs": [],
   "source": [
    "state_rank_count = 50"
   ]
  },
  {
   "cell_type": "markdown",
   "metadata": {},
   "source": [
    "Read in opendata_projects file and donation_counts project file, google queries data, and outside_dat"
   ]
  },
  {
   "cell_type": "code",
   "execution_count": 3,
   "metadata": {
    "collapsed": false
   },
   "outputs": [],
   "source": [
    "projects = pd.read_csv('../Data/opendata_projects.csv', index_col = False, dtype = {'school_zip': np.str_})"
   ]
  },
  {
   "cell_type": "code",
   "execution_count": 4,
   "metadata": {
    "collapsed": true
   },
   "outputs": [],
   "source": [
    "donations = pd.read_csv('../Data/donations_counts.csv')"
   ]
  },
  {
   "cell_type": "code",
   "execution_count": 5,
   "metadata": {
    "collapsed": false
   },
   "outputs": [],
   "source": [
    "trends = pd.read_csv('../Data/google_queries.csv')"
   ]
  },
  {
   "cell_type": "code",
   "execution_count": 6,
   "metadata": {
    "collapsed": true
   },
   "outputs": [],
   "source": [
    "outside_dat =  pd.read_csv('../IndividualScripts/outside_dat_merge/outside_datmay16.csv', \n",
    "                           dtype = {'school_zip': np.str_, 'med_inc': np.float64, 'pop': np.float64, \n",
    "                                    'party': np.str_})"
   ]
  },
  {
   "cell_type": "markdown",
   "metadata": {},
   "source": [
    "Use \"shipping cost\" variable to created binary variable indicating whether a project has free shipping"
   ]
  },
  {
   "cell_type": "code",
   "execution_count": 7,
   "metadata": {
    "collapsed": false
   },
   "outputs": [],
   "source": [
    "shipping = pd.DataFrame(projects['vendor_shipping_charges'])\n",
    "# if shipping_charges = 0 , t\n",
    "# if shipping_charges > 0 , f\n",
    "shipping[shipping == 0] = -1\n",
    "shipping[shipping > 0] = 'No'\n",
    "shipping[shipping == -1] = 'Yes'\n",
    "\n",
    "shipping.columns.values[0]='free_shipping'"
   ]
  },
  {
   "cell_type": "markdown",
   "metadata": {},
   "source": [
    "Function to count the number of days between start_date and complete_date"
   ]
  },
  {
   "cell_type": "code",
   "execution_count": 8,
   "metadata": {
    "collapsed": false
   },
   "outputs": [],
   "source": [
    "from dateutil.parser import parse\n",
    "import math\n",
    "import time\n",
    "\n",
    "def day_count(date0, date1):\n",
    "    if isinstance(date0, float) or isinstance(date1, float):\n",
    "        return 'NaN'\n",
    "    try:\n",
    "        delta = parse(date0) - parse(date1)\n",
    "        delta = delta.days\n",
    "        if delta < 0:\n",
    "            delta = 'NaN'       \n",
    "        elif delta == 0:\n",
    "            delta = 1      \n",
    "        else:\n",
    "            delta = delta\n",
    "    except Exception, e:\n",
    "        print date1, type(date1), date0, type(date0)\n",
    "        raise e\n",
    "    return delta"
   ]
  },
  {
   "cell_type": "markdown",
   "metadata": {},
   "source": [
    "Apply dayCount function over dataframe"
   ]
  },
  {
   "cell_type": "code",
   "execution_count": 9,
   "metadata": {
    "collapsed": false
   },
   "outputs": [],
   "source": [
    "def date_calc(row):\n",
    "    return day_count(row['date_completed'], row['date_posted'])\n",
    "date_diff = projects.apply(date_calc, 1)"
   ]
  },
  {
   "cell_type": "markdown",
   "metadata": {},
   "source": [
    "Create single vector dataframe of days to completion"
   ]
  },
  {
   "cell_type": "code",
   "execution_count": 10,
   "metadata": {
    "collapsed": false
   },
   "outputs": [],
   "source": [
    "days_to_comp = pd.DataFrame({'days_to_completion': pd.Series(date_diff)})"
   ]
  },
  {
   "cell_type": "markdown",
   "metadata": {},
   "source": [
    "Function to count the number of years after 2000 in which a project was posted"
   ]
  },
  {
   "cell_type": "code",
   "execution_count": 11,
   "metadata": {
    "collapsed": true
   },
   "outputs": [],
   "source": [
    "def years_since_2000(date0):\n",
    "    if isinstance(date0, float):\n",
    "        return 'NaN'\n",
    "    try:\n",
    "        delta = parse(date0).year - 2000\n",
    "        if delta < 0:\n",
    "            delta = 'NaN'       \n",
    "        elif delta == 0:\n",
    "            delta = 1      \n",
    "        else:\n",
    "            delta = delta\n",
    "    except Exception, e:\n",
    "        print date0, type(date0)\n",
    "        raise e\n",
    "    return delta"
   ]
  },
  {
   "cell_type": "markdown",
   "metadata": {},
   "source": [
    "Apply years_since_2000 function over dataframe"
   ]
  },
  {
   "cell_type": "code",
   "execution_count": 12,
   "metadata": {
    "collapsed": true
   },
   "outputs": [],
   "source": [
    "def year_calc(row):\n",
    "    return years_since_2000(row['date_posted'])\n",
    "year_diff = projects.apply(year_calc, 1)"
   ]
  },
  {
   "cell_type": "code",
   "execution_count": 13,
   "metadata": {
    "collapsed": true
   },
   "outputs": [],
   "source": [
    "years_since_2000 = pd.DataFrame({'years_since_2000': pd.Series(year_diff)})"
   ]
  },
  {
   "cell_type": "markdown",
   "metadata": {},
   "source": [
    "Subset opendata_projects to include only live projects"
   ]
  },
  {
   "cell_type": "code",
   "execution_count": 14,
   "metadata": {
    "collapsed": false
   },
   "outputs": [],
   "source": [
    "live_projects = projects[projects.funding_status == 'live']"
   ]
  },
  {
   "cell_type": "markdown",
   "metadata": {},
   "source": [
    "Add column of current date so we can count open days"
   ]
  },
  {
   "cell_type": "code",
   "execution_count": 15,
   "metadata": {
    "collapsed": false
   },
   "outputs": [
    {
     "name": "stderr",
     "output_type": "stream",
     "text": [
      "/home/brianna/anaconda/lib/python2.7/site-packages/IPython/kernel/__main__.py:1: SettingWithCopyWarning: \n",
      "A value is trying to be set on a copy of a slice from a DataFrame.\n",
      "Try using .loc[row_indexer,col_indexer] = value instead\n",
      "\n",
      "See the the caveats in the documentation: http://pandas.pydata.org/pandas-docs/stable/indexing.html#indexing-view-versus-copy\n",
      "  if __name__ == '__main__':\n"
     ]
    }
   ],
   "source": [
    "live_projects['current_date'] = '2014-11-10'"
   ]
  },
  {
   "cell_type": "markdown",
   "metadata": {},
   "source": [
    "Apply dayCount over live projects"
   ]
  },
  {
   "cell_type": "code",
   "execution_count": 16,
   "metadata": {
    "collapsed": false
   },
   "outputs": [],
   "source": [
    "def date_calc2(row):\n",
    "    return day_count(row['current_date'], row['date_posted'])\n",
    "date_diff2 = live_projects.apply(date_calc2, 1)"
   ]
  },
  {
   "cell_type": "markdown",
   "metadata": {},
   "source": [
    "Create single vector dataframe of days open. If project live fewer than 30 days, set days live to NA"
   ]
  },
  {
   "cell_type": "code",
   "execution_count": 17,
   "metadata": {
    "collapsed": false
   },
   "outputs": [],
   "source": [
    "days_live = pd.DataFrame({'days_open': pd.Series(date_diff2)})"
   ]
  },
  {
   "cell_type": "markdown",
   "metadata": {},
   "source": [
    "Add the dataframes containing days_to_completion and days_open to projects dataframe"
   ]
  },
  {
   "cell_type": "code",
   "execution_count": 18,
   "metadata": {
    "collapsed": true
   },
   "outputs": [],
   "source": [
    "projects = pd.concat([projects, days_to_comp, days_live, shipping, years_since_2000], axis = 1)"
   ]
  },
  {
   "cell_type": "markdown",
   "metadata": {},
   "source": [
    "Consider all reallocated projects and all projects live for more than 30 days as not funded at all. Delete all remaining live projects (which have been live for less than 30 days)"
   ]
  },
  {
   "cell_type": "code",
   "execution_count": 19,
   "metadata": {
    "collapsed": false
   },
   "outputs": [],
   "source": [
    "projects.ix[projects.days_to_completion <= 30, 'funded_by_30'] = 'Yes'\n",
    "projects.ix[projects.days_to_completion > 30, 'funded_by_30'] = 'No'\n",
    "projects.ix[projects.funding_status=='reallocated', 'funded_by_30'] = 'No'\n",
    "projects.ix[projects.days_open > 30, 'funded_by_30'] = 'No'\n",
    "\n",
    "projects = projects[projects.funded_by_30.notnull()]"
   ]
  },
  {
   "cell_type": "markdown",
   "metadata": {},
   "source": [
    "Create donor interest parameters by subject and poverty level"
   ]
  },
  {
   "cell_type": "markdown",
   "metadata": {},
   "source": [
    "By SUBJECT"
   ]
  },
  {
   "cell_type": "code",
   "execution_count": 20,
   "metadata": {
    "collapsed": false
   },
   "outputs": [],
   "source": [
    "# Deal with missing values\n",
    "index = np.where(projects['primary_focus_subject'].isnull())[0]\n",
    "projects.loc[index, 'primary_focus_subject'] = 'Missing'\n",
    "total_size = len(projects) \n",
    "total_donors = projects['num_donors'].sum()\n",
    "\n",
    "subjects = projects['primary_focus_subject']\n",
    "subjects = subjects.unique()\n",
    "subjects.sort()"
   ]
  },
  {
   "cell_type": "code",
   "execution_count": 21,
   "metadata": {
    "collapsed": true
   },
   "outputs": [],
   "source": [
    "num_donors_sub = projects.groupby(['primary_focus_subject']).sum()['num_donors']\n",
    "subjects_size = projects.groupby('primary_focus_subject').size()\n",
    "subjects_prop = subjects_size / total_size\n",
    "scaled_interest_par_sub = (num_donors_sub/total_donors)**2 /subjects_prop "
   ]
  },
  {
   "cell_type": "code",
   "execution_count": 22,
   "metadata": {
    "collapsed": true
   },
   "outputs": [],
   "source": [
    "df = pd.DataFrame({'primary_focus_subject': subjects, 'scaled_interest_par_sub' : scaled_interest_par_sub.values})\n",
    "projects = pd.merge(projects, df, left_on = 'primary_focus_subject', right_on='primary_focus_subject', how='left')"
   ]
  },
  {
   "cell_type": "markdown",
   "metadata": {},
   "source": [
    "By POVERTY LEVEL"
   ]
  },
  {
   "cell_type": "code",
   "execution_count": 23,
   "metadata": {
    "collapsed": true
   },
   "outputs": [],
   "source": [
    "# Deal with missing values\n",
    "index = np.where(projects['poverty_level'].isnull())[0]\n",
    "projects.loc[index, 'poverty_level'] = 'Missing'\n",
    "total_size = len(projects) \n",
    "total_donors = projects['num_donors'].sum()\n",
    "\n",
    "poverty = projects['poverty_level']\n",
    "poverty = poverty.unique()\n",
    "poverty.sort()"
   ]
  },
  {
   "cell_type": "code",
   "execution_count": 24,
   "metadata": {
    "collapsed": false
   },
   "outputs": [],
   "source": [
    "num_donors_pov = projects.groupby(['poverty_level']).sum()['num_donors']\n",
    "poverty_size = projects.groupby('poverty_level').size()\n",
    "poverty_prop = poverty_size / total_size\n",
    "scaled_interest_par_pov = (num_donors_pov/total_donors)**2 /poverty_prop"
   ]
  },
  {
   "cell_type": "code",
   "execution_count": 25,
   "metadata": {
    "collapsed": false
   },
   "outputs": [],
   "source": [
    "df = pd.DataFrame({'poverty_level': poverty, 'scaled_interest_par_pov' : scaled_interest_par_pov.values})\n",
    "projects = pd.merge(projects, df, left_on = 'poverty_level', right_on='poverty_level', how='left')"
   ]
  },
  {
   "cell_type": "code",
   "execution_count": 26,
   "metadata": {
    "collapsed": false
   },
   "outputs": [],
   "source": [
    "#Replace missing values as NaN\n",
    "projects = projects.replace('Missing', np.nan)"
   ]
  },
  {
   "cell_type": "markdown",
   "metadata": {},
   "source": [
    "Combine city, state into city_state variable in projects dataframe"
   ]
  },
  {
   "cell_type": "code",
   "execution_count": 27,
   "metadata": {
    "collapsed": true
   },
   "outputs": [],
   "source": [
    "projects['city_state'] = projects['school_city'] + ', ' + projects['school_state']"
   ]
  },
  {
   "cell_type": "markdown",
   "metadata": {},
   "source": [
    "Get the count of the completed projects from each city_state\n",
    "and create levels from the top 50, and group all remaining into 51st category"
   ]
  },
  {
   "cell_type": "code",
   "execution_count": 28,
   "metadata": {
    "collapsed": false
   },
   "outputs": [],
   "source": [
    "comp = projects[projects.funding_status == 'completed']\n",
    "counts = comp['city_state'].value_counts()\n",
    "ranks = pd.DataFrame([x+1 for x in range(counts.shape[0])], columns = ['completion_rank'])\n",
    "names = pd.DataFrame(counts.index, columns = ['city_state'])"
   ]
  },
  {
   "cell_type": "code",
   "execution_count": 29,
   "metadata": {
    "collapsed": false
   },
   "outputs": [],
   "source": [
    "ranks = pd.concat([names, ranks], axis = 1)\n",
    "ranks['city_state_cat'] = ranks['city_state']"
   ]
  },
  {
   "cell_type": "code",
   "execution_count": 30,
   "metadata": {
    "collapsed": false
   },
   "outputs": [
    {
     "name": "stderr",
     "output_type": "stream",
     "text": [
      "/home/brianna/anaconda/lib/python2.7/site-packages/IPython/kernel/__main__.py:1: SettingWithCopyWarning: \n",
      "A value is trying to be set on a copy of a slice from a DataFrame\n",
      "\n",
      "See the the caveats in the documentation: http://pandas.pydata.org/pandas-docs/stable/indexing.html#indexing-view-versus-copy\n",
      "  if __name__ == '__main__':\n"
     ]
    }
   ],
   "source": [
    "ranks['city_state_cat'][ranks.completion_rank > state_rank_count] = 'Other'"
   ]
  },
  {
   "cell_type": "markdown",
   "metadata": {},
   "source": [
    "Separate city_state into categories based on the counts of funded projects in each city_state. Thresholds include: 10 or fewer, 11 to 50, 51 to 100, 101 to 200, 201 to 500, and greater than 500. "
   ]
  },
  {
   "cell_type": "code",
   "execution_count": 31,
   "metadata": {
    "collapsed": true
   },
   "outputs": [],
   "source": [
    "max_count = max(counts)\n",
    "counts_cut = counts\n",
    "counts_cut[(counts_cut>=1) & (counts_cut<=10)] = 1\n",
    "counts_cut[(counts_cut>10) & (counts_cut<=50)] = 2\n",
    "counts_cut[(counts_cut>50) & (counts_cut<=100)] = 3\n",
    "counts_cut[(counts_cut>100) & (counts_cut<=200)] = 4\n",
    "counts_cut[(counts_cut>200) & (counts_cut<=500)] = 5\n",
    "counts_cut[(counts_cut>500) & (counts_cut<=max_count)] = 6\n",
    "\n",
    "cut = pd.DataFrame(counts_cut.values, columns = ['city_state_counts'])"
   ]
  },
  {
   "cell_type": "code",
   "execution_count": 32,
   "metadata": {
    "collapsed": false
   },
   "outputs": [],
   "source": [
    "ranks = pd.concat([ranks, cut], axis = 1)"
   ]
  },
  {
   "cell_type": "markdown",
   "metadata": {},
   "source": [
    "Join the ranks table and projects table on the city_state columns"
   ]
  },
  {
   "cell_type": "code",
   "execution_count": 33,
   "metadata": {
    "collapsed": false
   },
   "outputs": [],
   "source": [
    "projects = projects.merge(ranks, how = 'right', on = 'city_state')"
   ]
  },
  {
   "cell_type": "markdown",
   "metadata": {},
   "source": [
    "Join the donations table and projects table on the city_state column"
   ]
  },
  {
   "cell_type": "code",
   "execution_count": 34,
   "metadata": {
    "collapsed": false
   },
   "outputs": [],
   "source": [
    "projects = projects.merge(donations, how = 'right', on = 'city_state')"
   ]
  },
  {
   "cell_type": "code",
   "execution_count": 35,
   "metadata": {
    "collapsed": true
   },
   "outputs": [],
   "source": [
    "# Function to process Google queries data\n",
    "def date_conv(row):\n",
    "    date = row.isocalendar()\n",
    "    year_week = str(date[0]) + \" \" + str(date[1])\n",
    "    return year_week"
   ]
  },
  {
   "cell_type": "code",
   "execution_count": 36,
   "metadata": {
    "collapsed": true
   },
   "outputs": [],
   "source": [
    "date_posted = pd.to_datetime(projects['date_posted'])\n",
    "projects['year_week'] = date_posted.apply(date_conv, 1)\n",
    "\n",
    "projects = pd.merge(projects, trends, on = 'year_week', how='left')"
   ]
  },
  {
   "cell_type": "markdown",
   "metadata": {},
   "source": [
    "Merge outside_data with projects"
   ]
  },
  {
   "cell_type": "code",
   "execution_count": 37,
   "metadata": {
    "collapsed": false
   },
   "outputs": [],
   "source": [
    "projects = projects.merge(outside_dat, on = 'school_zip', how='left')"
   ]
  },
  {
   "cell_type": "markdown",
   "metadata": {},
   "source": [
    "Drop last 20986 rows because those rows only have outside data"
   ]
  },
  {
   "cell_type": "code",
   "execution_count": 38,
   "metadata": {
    "collapsed": true
   },
   "outputs": [],
   "source": [
    "projects = projects.drop(projects.tail(20986).index)"
   ]
  },
  {
   "cell_type": "code",
   "execution_count": 39,
   "metadata": {
    "collapsed": true
   },
   "outputs": [],
   "source": [
    "#Function to remove projects posted prior to 2010\n",
    "def sub_projects(date):\n",
    "    if isinstance(date, float):\n",
    "        return 'NaN'\n",
    "    try:\n",
    "        date = parse(date)\n",
    "        year = date.year\n",
    "    except Exception, e:\n",
    "        print date, type(date)\n",
    "        raise e\n",
    "    if year >= 2010:\n",
    "        return 'Keep'\n",
    "    else: \n",
    "        return 'Drop'\n",
    "    \n",
    "projects['keep_drop'] = [sub_projects(x) for x in projects.date_posted]\n",
    "projects = projects[projects.keep_drop == 'Keep']"
   ]
  },
  {
   "cell_type": "markdown",
   "metadata": {},
   "source": [
    "# ---------------------------------------------------------------------------\n",
    "# Generate test set / training set\n",
    "# ---------------------------------------------------------------------------"
   ]
  },
  {
   "cell_type": "markdown",
   "metadata": {},
   "source": [
    "Create test set (~20%) by selecting projects posted from Nov 2013 onwards. Then create training (~80%)"
   ]
  },
  {
   "cell_type": "code",
   "execution_count": 40,
   "metadata": {
    "collapsed": true
   },
   "outputs": [],
   "source": [
    "def split_train_test(date):\n",
    "    if isinstance(date, float):\n",
    "        return 'NaN'\n",
    "    try:\n",
    "        date = parse(date)\n",
    "        day = date.day\n",
    "        month = date.month\n",
    "        year = date.year\n",
    "    except Exception, e:\n",
    "        print date, type(date)\n",
    "        raise e\n",
    "    #if year == 2014 or (year == 2013 and (month == 11 or month == 12)):\n",
    "    if year == 2014 and month >= 4:\n",
    "        return 'Test'\n",
    "    else:\n",
    "        return 'Train'"
   ]
  },
  {
   "cell_type": "code",
   "execution_count": 41,
   "metadata": {
    "collapsed": true
   },
   "outputs": [],
   "source": [
    "projects['train_test_label'] = [split_train_test(x) for x in projects.date_posted]"
   ]
  },
  {
   "cell_type": "code",
   "execution_count": 42,
   "metadata": {
    "collapsed": true
   },
   "outputs": [],
   "source": [
    "train = projects[projects.train_test_label == 'Train']\n",
    "test = projects[projects.train_test_label == 'Test']"
   ]
  },
  {
   "cell_type": "markdown",
   "metadata": {},
   "source": [
    "Create three new trainings sets, >=2010, >=2008, >=2006"
   ]
  },
  {
   "cell_type": "markdown",
   "metadata": {},
   "source": [
    "Remove unnecessary columns from projects dataframe\n",
    "\n",
    "Removed: _projectid, _teacher_acctid, _schoolid, school_ncesid, school_city, school_state, school_zip, school_district, school_county, school_kipp, school_charter_ready_promise, primary_focus_area, secondary_focus_area, sales_tax, payment_processing_charges, fulfillment_labor_materials, total_price_including_optional_support, students_reached, total_donations, num_donors, eligible_double_your_impact_match, eligible_almost_home_match, funding_status, date_posted, date_completed, date_thank_you_packet_mailed, date_expiration, secondary_focus_subject, city_state, vendor_shipping_charges, city_state_cat, keep_drop"
   ]
  },
  {
   "cell_type": "code",
   "execution_count": 43,
   "metadata": {
    "collapsed": true
   },
   "outputs": [],
   "source": [
    "drop_cols = ['_projectid', '_teacher_acctid', '_schoolid', 'school_ncesid', 'school_city', 'school_state', 'school_zip', \n",
    "             'school_district', 'school_county', 'school_kipp', 'school_charter_ready_promise', 'primary_focus_area', \n",
    "             'secondary_focus_area', 'completion_rank', 'sales_tax', 'payment_processing_charges', 'fulfillment_labor_materials', \n",
    "             'total_price_including_optional_support', 'students_reached', 'total_donations', 'num_donors', 'eligible_double_your_impact_match', \n",
    "             'eligible_almost_home_match', 'funding_status', 'date_posted', 'date_completed', 'date_thank_you_packet_mailed',\n",
    "             'date_expiration', 'secondary_focus_subject', 'Unnamed: 0', 'city_state', 'donor_counts', 'days_open', \n",
    "             'days_to_completion', 'vendor_shipping_charges', 'city_state_cat', 'keep_drop', 'year_week', 'city_state_counts']"
   ]
  },
  {
   "cell_type": "code",
   "execution_count": 44,
   "metadata": {
    "collapsed": false
   },
   "outputs": [],
   "source": [
    "projects = projects.drop(drop_cols, axis = 1)\n",
    "train = train.drop(drop_cols, axis = 1)\n",
    "test = test.drop(drop_cols, axis = 1)"
   ]
  },
  {
   "cell_type": "markdown",
   "metadata": {},
   "source": [
    "Write full dataset to csv"
   ]
  },
  {
   "cell_type": "code",
   "execution_count": 45,
   "metadata": {
    "collapsed": true
   },
   "outputs": [],
   "source": [
    "projects.to_csv('../Data/projects_prelim_data.csv', index = False)"
   ]
  },
  {
   "cell_type": "markdown",
   "metadata": {},
   "source": [
    "Drop train_test_label column from training and testing sets"
   ]
  },
  {
   "cell_type": "code",
   "execution_count": 46,
   "metadata": {
    "collapsed": false
   },
   "outputs": [],
   "source": [
    "drop_cols2 = ['train_test_label'] \n",
    "train = train.drop(drop_cols2, axis = 1)\n",
    "test = test.drop(drop_cols2, axis = 1)"
   ]
  },
  {
   "cell_type": "markdown",
   "metadata": {},
   "source": [
    "Write separate training/testing sets to csvs"
   ]
  },
  {
   "cell_type": "code",
   "execution_count": 47,
   "metadata": {
    "collapsed": true
   },
   "outputs": [],
   "source": [
    "train.to_csv('../Data/training_set.csv', index = False)\n",
    "test.to_csv('../Data/testing_set.csv', index = False)"
   ]
  },
  {
   "cell_type": "code",
   "execution_count": 50,
   "metadata": {
    "collapsed": false
   },
   "outputs": [
    {
     "data": {
      "text/plain": [
       "<bound method DataFrame.head of         school_latitude  school_longitude school_metro school_charter  \\\n",
       "8267          40.822187        -73.855974        urban              f   \n",
       "8268          40.822187        -73.855974        urban              f   \n",
       "8299          40.822187        -73.855974        urban              f   \n",
       "8497          40.822277        -73.894063        urban              f   \n",
       "8505          40.851853        -73.910253        urban              f   \n",
       "8516          40.844243        -73.907793        urban              f   \n",
       "8743          40.844243        -73.907793        urban              f   \n",
       "8824          40.822187        -73.855974        urban              f   \n",
       "8831          40.879883        -73.888962        urban              f   \n",
       "8835          40.844243        -73.907793        urban              f   \n",
       "8912          40.874756        -73.867821        urban              f   \n",
       "9020          40.815018        -73.856094        urban              f   \n",
       "9064          40.865977        -73.850815        urban              f   \n",
       "9065          40.879883        -73.888962        urban              f   \n",
       "9070          40.822187        -73.855974        urban              f   \n",
       "9071          40.838261        -73.866051        urban              f   \n",
       "9078          40.838261        -73.866051        urban              f   \n",
       "9079          40.822187        -73.855974        urban              f   \n",
       "9086          40.839466        -73.901764        urban              f   \n",
       "9098          40.839062        -73.900124        urban              t   \n",
       "9118          40.872721        -73.905197        urban              f   \n",
       "9119          40.848546        -73.888701        urban              f   \n",
       "9122          40.829472        -73.849838        urban              f   \n",
       "9132          40.873322        -73.833607        urban              f   \n",
       "9139          40.854983        -73.903357        urban              f   \n",
       "9150          40.827240        -73.829908          NaN              f   \n",
       "9170          40.813894        -73.920867        urban              f   \n",
       "9192          40.869811        -73.898522        urban              f   \n",
       "9207          40.843781        -73.884201        urban              f   \n",
       "9208          40.844243        -73.907793        urban              f   \n",
       "...                 ...               ...          ...            ...   \n",
       "729163        42.546608        -83.321526     suburban              f   \n",
       "729164        42.546608        -83.321526     suburban              f   \n",
       "729170        41.959723        -87.989905     suburban              f   \n",
       "729171        35.990256        -87.124052          NaN              f   \n",
       "729172        35.990256        -87.124052          NaN              f   \n",
       "729173        41.569711        -87.614792     suburban              f   \n",
       "729174        38.144499        -93.197364        rural              f   \n",
       "729177        40.753127        -88.415881        rural              f   \n",
       "729178        40.753127        -88.415881        rural              f   \n",
       "729179        43.968685        -92.062675          NaN              f   \n",
       "729180        43.968685        -92.062675          NaN              f   \n",
       "729181        43.968685        -92.062675          NaN              f   \n",
       "729182        43.968685        -92.062675          NaN              f   \n",
       "729183        44.153679       -108.872452        rural              f   \n",
       "729186        47.102241       -122.040891          NaN              f   \n",
       "729189        42.834457        -73.965604     suburban              f   \n",
       "729191        40.496735        -76.853401        rural              f   \n",
       "729193        30.625509        -87.322287     suburban              f   \n",
       "729197        40.121511        -80.758941     suburban              f   \n",
       "729200        42.371593        -85.435512        rural              f   \n",
       "729201        40.602206        -86.477845          NaN              f   \n",
       "729206        45.642007       -109.254968        rural              f   \n",
       "729207        42.499910        -85.408210        rural              f   \n",
       "729209        33.785748        -84.254250     suburban              f   \n",
       "729210        42.847131        -82.489753     suburban              f   \n",
       "729211        40.685856        -76.602599        rural              f   \n",
       "729219        37.814745        -81.154641        rural              f   \n",
       "729220        45.990509       -110.662704        rural              f   \n",
       "729221        43.738576        -83.966712     suburban              f   \n",
       "729222        39.427789        -77.811139          NaN              f   \n",
       "\n",
       "       school_magnet school_year_round school_nlns teacher_prefix  \\\n",
       "8267               f                 f           f            Mr.   \n",
       "8268               f                 f           f            Mr.   \n",
       "8299               f                 f           f            Mr.   \n",
       "8497               f                 f           f           Mrs.   \n",
       "8505               f                 f           f            Ms.   \n",
       "8516               f                 f           f            Ms.   \n",
       "8743               f                 f           f            Ms.   \n",
       "8824               f                 f           f            Mr.   \n",
       "8831               f                 f           f            Mr.   \n",
       "8835               f                 f           f            Ms.   \n",
       "8912               f                 f           f           Mrs.   \n",
       "9020               f                 f           f            Ms.   \n",
       "9064               f                 f           f            Ms.   \n",
       "9065               f                 f           f            Mr.   \n",
       "9070               f                 f           f            Mr.   \n",
       "9071               f                 f           f           Mrs.   \n",
       "9078               f                 f           f           Mrs.   \n",
       "9079               f                 f           f            Mr.   \n",
       "9086               f                 f           f            Mr.   \n",
       "9098               f                 f           f            Mr.   \n",
       "9118               f                 f           f            Ms.   \n",
       "9119               f                 f           f            Ms.   \n",
       "9122               f                 f           f            Mr.   \n",
       "9132               f                 f           f            Ms.   \n",
       "9139               f                 f           f           Mrs.   \n",
       "9150               f                 f           f            Ms.   \n",
       "9170               f                 f           f            Mr.   \n",
       "9192               f                 f           f            Ms.   \n",
       "9207               f                 f           f            Ms.   \n",
       "9208               f                 f           f            Ms.   \n",
       "...              ...               ...         ...            ...   \n",
       "729163             f                 f           f           Mrs.   \n",
       "729164             f                 f           f           Mrs.   \n",
       "729170             f                 f           f            Mr.   \n",
       "729171             f                 f           f           Mrs.   \n",
       "729172             f                 f           f           Mrs.   \n",
       "729173             f                 f           f           Mrs.   \n",
       "729174             f                 f           f           Mrs.   \n",
       "729177             f                 f           f           Mrs.   \n",
       "729178             f                 f           f           Mrs.   \n",
       "729179             f                 f           f            Ms.   \n",
       "729180             f                 f           f            Ms.   \n",
       "729181             f                 f           f            Ms.   \n",
       "729182             f                 f           f            Ms.   \n",
       "729183             f                 f           f            Mr.   \n",
       "729186             f                 f           f           Mrs.   \n",
       "729189             f                 f           f           Mrs.   \n",
       "729191             f                 f           f            Ms.   \n",
       "729193             f                 f           f            Ms.   \n",
       "729197             f                 f           f           Mrs.   \n",
       "729200             f                 f           f            Ms.   \n",
       "729201             f                 f           f           Mrs.   \n",
       "729206             f                 f           f            Ms.   \n",
       "729207             f                 f           f           Mrs.   \n",
       "729209             f                 f           f            Mr.   \n",
       "729210             f                 f           f            Mr.   \n",
       "729211             f                 f           f           Mrs.   \n",
       "729219             f                 f           f           Mrs.   \n",
       "729220             f                 f           f           Mrs.   \n",
       "729221             f                 f           f            Ms.   \n",
       "729222             f                 f           f            Ms.   \n",
       "\n",
       "       teacher_teach_for_america teacher_ny_teaching_fellow     ...      \\\n",
       "8267                           f                          f     ...       \n",
       "8268                           f                          f     ...       \n",
       "8299                           f                          f     ...       \n",
       "8497                           f                          f     ...       \n",
       "8505                           f                          f     ...       \n",
       "8516                           f                          t     ...       \n",
       "8743                           t                          f     ...       \n",
       "8824                           f                          f     ...       \n",
       "8831                           f                          t     ...       \n",
       "8835                           t                          f     ...       \n",
       "8912                           f                          f     ...       \n",
       "9020                           f                          t     ...       \n",
       "9064                           f                          t     ...       \n",
       "9065                           f                          t     ...       \n",
       "9070                           f                          f     ...       \n",
       "9071                           f                          f     ...       \n",
       "9078                           f                          f     ...       \n",
       "9079                           f                          f     ...       \n",
       "9086                           f                          f     ...       \n",
       "9098                           t                          f     ...       \n",
       "9118                           f                          f     ...       \n",
       "9119                           f                          f     ...       \n",
       "9122                           f                          f     ...       \n",
       "9132                           f                          t     ...       \n",
       "9139                           f                          f     ...       \n",
       "9150                           f                          f     ...       \n",
       "9170                           t                          f     ...       \n",
       "9192                           t                          f     ...       \n",
       "9207                           f                          t     ...       \n",
       "9208                           t                          f     ...       \n",
       "...                          ...                        ...     ...       \n",
       "729163                         f                          f     ...       \n",
       "729164                         f                          f     ...       \n",
       "729170                         f                          f     ...       \n",
       "729171                         f                          f     ...       \n",
       "729172                         f                          f     ...       \n",
       "729173                         f                          f     ...       \n",
       "729174                         f                          f     ...       \n",
       "729177                         f                          f     ...       \n",
       "729178                         f                          f     ...       \n",
       "729179                         f                          f     ...       \n",
       "729180                         f                          f     ...       \n",
       "729181                         f                          f     ...       \n",
       "729182                         f                          f     ...       \n",
       "729183                         f                          f     ...       \n",
       "729186                         f                          f     ...       \n",
       "729189                         f                          f     ...       \n",
       "729191                         f                          f     ...       \n",
       "729193                         f                          f     ...       \n",
       "729197                         f                          f     ...       \n",
       "729200                         f                          f     ...       \n",
       "729201                         f                          f     ...       \n",
       "729206                         f                          f     ...       \n",
       "729207                         f                          f     ...       \n",
       "729209                         f                          f     ...       \n",
       "729210                         f                          f     ...       \n",
       "729211                         f                          f     ...       \n",
       "729219                         f                          f     ...       \n",
       "729220                         f                          f     ...       \n",
       "729221                         f                          f     ...       \n",
       "729222                         f                          f     ...       \n",
       "\n",
       "       free_shipping years_since_2000 funded_by_30 scaled_interest_par_sub  \\\n",
       "8267              No               11          Yes                0.037510   \n",
       "8268             Yes               10          Yes                0.037510   \n",
       "8299              No               10          Yes                0.037510   \n",
       "8497              No               10           No                0.071218   \n",
       "8505              No               10           No                0.052359   \n",
       "8516              No               10           No                0.289842   \n",
       "8743              No               10           No                0.289842   \n",
       "8824              No               10          Yes                0.037510   \n",
       "8831             Yes               10          Yes                0.115265   \n",
       "8835              No               10           No                0.289842   \n",
       "8912              No               10           No                0.124238   \n",
       "9020              No               10          Yes                0.008684   \n",
       "9064              No               10           No                0.010847   \n",
       "9065              No               10           No                0.115265   \n",
       "9070              No               10          Yes                0.037510   \n",
       "9071              No               10           No                0.018895   \n",
       "9078              No               10          Yes                0.018895   \n",
       "9079              No               10          Yes                0.037510   \n",
       "9086              No               10           No                0.024063   \n",
       "9098              No               10          Yes                0.024063   \n",
       "9118              No               10          Yes                0.124238   \n",
       "9119             Yes               10          Yes                0.024063   \n",
       "9122              No               10           No                0.019826   \n",
       "9132             Yes               10          Yes                0.024063   \n",
       "9139              No               10          Yes                0.289842   \n",
       "9150              No               10           No                0.071218   \n",
       "9170              No               10           No                0.289842   \n",
       "9192              No               10          Yes                0.012042   \n",
       "9207              No               10          Yes                0.124238   \n",
       "9208              No               10          Yes                0.289842   \n",
       "...              ...              ...          ...                     ...   \n",
       "729163           Yes               14          Yes                0.289842   \n",
       "729164           Yes               14          Yes                0.008941   \n",
       "729170           Yes               14          Yes                0.124238   \n",
       "729171           Yes               14          Yes                0.115265   \n",
       "729172           Yes               14           No                0.115265   \n",
       "729173           Yes               14          Yes                0.124238   \n",
       "729174            No               14           No                0.289842   \n",
       "729177            No               14          Yes                0.289842   \n",
       "729178           Yes               14          Yes                0.289842   \n",
       "729179            No               14          Yes                0.071218   \n",
       "729180           Yes               14          Yes                0.071218   \n",
       "729181            No               14           No                0.071218   \n",
       "729182            No               14          Yes                0.071218   \n",
       "729183           Yes               14          Yes                0.041059   \n",
       "729186            No               14           No                0.289842   \n",
       "729189            No               14          Yes                0.115265   \n",
       "729191           Yes               14          Yes                0.115265   \n",
       "729193           Yes               14          Yes                0.071218   \n",
       "729197           Yes               14           No                0.019826   \n",
       "729200           Yes               14          Yes                0.046911   \n",
       "729201           Yes               14          Yes                0.018895   \n",
       "729206           Yes               14          Yes                0.289842   \n",
       "729207           Yes               14          Yes                0.289842   \n",
       "729209           Yes               14           No                0.051238   \n",
       "729210            No               14           No                0.046911   \n",
       "729211            No               14          Yes                0.041059   \n",
       "729219           Yes               14           No                0.018895   \n",
       "729220           Yes               14          Yes                0.046911   \n",
       "729221           Yes               14          Yes                0.115265   \n",
       "729222            No               14          Yes                0.124238   \n",
       "\n",
       "        scaled_interest_par_pov city_state_counts  Google_query med_inc  \\\n",
       "8267                   0.584402                 6            32   35866   \n",
       "8268                   0.584402                 6            12   35866   \n",
       "8299                   0.584402                 6            14   35866   \n",
       "8497                   0.584402                 6            17   24461   \n",
       "8505                   0.584402                 6            12   25470   \n",
       "8516                   0.584402                 6            12   24949   \n",
       "8743                   0.584402                 6            19   24949   \n",
       "8824                   0.584402                 6            11   35866   \n",
       "8831                   0.584402                 6            11   33776   \n",
       "8835                   0.584402                 6            19   24949   \n",
       "8912                   0.584402                 6            20   36048   \n",
       "9020                   0.584402                 6            19   35866   \n",
       "9064                   0.584402                 6            19   57776   \n",
       "9065                   0.584402                 6            15   33776   \n",
       "9070                   0.584402                 6            13   35866   \n",
       "9071                   0.584402                 6            19   22307   \n",
       "9078                   0.584402                 6            19   22307   \n",
       "9079                   0.584402                 6             9   35866   \n",
       "9086                   0.584402                 6            20   24949   \n",
       "9098                   0.584402                 6           NaN   24949   \n",
       "9118                   0.584402                 6            20   54258   \n",
       "9119                   0.584402                 6            20   24949   \n",
       "9122                   0.584402                 6            19   30288   \n",
       "9132                   0.249428                 6            19   43629   \n",
       "9139                   0.584402                 6            20   25470   \n",
       "9150                   0.249428                 6            19   65450   \n",
       "9170                   0.584402                 6            19   20232   \n",
       "9192                   0.584402                 6            19   33776   \n",
       "9207                   0.584402                 6            19   22307   \n",
       "9208                   0.584402                 6            19   24949   \n",
       "...                         ...               ...           ...     ...   \n",
       "729163                 0.025983                 1            34  116863   \n",
       "729164                 0.025983                 1            41  116863   \n",
       "729170                 0.249428                 1            34   61439   \n",
       "729171                 0.249428                 1            34   53829   \n",
       "729172                 0.249428                 1            44   53829   \n",
       "729173                 0.025983                 1            34   50036   \n",
       "729174                 0.584402                 1            34   39412   \n",
       "729177                 0.140407                 1            34   56071   \n",
       "729178                 0.140407                 1            32   56071   \n",
       "729179                 0.140407                 1            34   55450   \n",
       "729180                 0.140407                 1            44   55450   \n",
       "729181                 0.140407                 1            41   55450   \n",
       "729182                 0.140407                 1            41   55450   \n",
       "729183                 0.249428                 1            44   44833   \n",
       "729186                 0.140407                 1            34   73875   \n",
       "729189                 0.140407                 1            44   66021   \n",
       "729191                 0.140407                 1            41   55119   \n",
       "729193                 0.584402                 1            44   56388   \n",
       "729197                 0.584402                 1            44   34268   \n",
       "729200                 0.140407                 1            44   73864   \n",
       "729201                 0.249428                 1            41   51875   \n",
       "729206                 0.140407                 1            41   54292   \n",
       "729207                 0.249428                 1            41   49693   \n",
       "729209                 0.584402                 1            41   30139   \n",
       "729210                 0.140407                 1            41   58768   \n",
       "729211                 0.140407                 1            41   42813   \n",
       "729219                 0.249428                 1            32   45288   \n",
       "729220                 0.140407                 1            32   51250   \n",
       "729221                 0.249428                 1            32   54935   \n",
       "729222                 0.140407                 1            32   69125   \n",
       "\n",
       "          pop       party  \n",
       "8267    58519  Democratic  \n",
       "8268    58519  Democratic  \n",
       "8299    58519  Democratic  \n",
       "8497    47308  Democratic  \n",
       "8505    78309  Democratic  \n",
       "8516    70496  Democratic  \n",
       "8743    70496  Democratic  \n",
       "8824    58519  Democratic  \n",
       "8831    76103  Democratic  \n",
       "8835    70496  Democratic  \n",
       "8912    97060  Democratic  \n",
       "9020    58519  Democratic  \n",
       "9064    66631  Democratic  \n",
       "9065    76103  Democratic  \n",
       "9070    58519  Democratic  \n",
       "9071    57311  Democratic  \n",
       "9078    57311  Democratic  \n",
       "9079    58519  Democratic  \n",
       "9086    70496  Democratic  \n",
       "9098    70496  Democratic  \n",
       "9118    67970  Democratic  \n",
       "9119    70496  Democratic  \n",
       "9122    66358  Democratic  \n",
       "9132    40931  Democratic  \n",
       "9139    78309  Democratic  \n",
       "9150    42230  Democratic  \n",
       "9170    37337  Democratic  \n",
       "9192    76103  Democratic  \n",
       "9207    57311  Democratic  \n",
       "9208    70496  Democratic  \n",
       "...       ...         ...  \n",
       "729163  14127  Democratic  \n",
       "729164  14127  Democratic  \n",
       "729170  14310  Democratic  \n",
       "729171  10745  Bipartisan  \n",
       "729172  10745  Bipartisan  \n",
       "729173   2391  Democratic  \n",
       "729174   1996  Republican  \n",
       "729177   1746  Republican  \n",
       "729178   1746  Republican  \n",
       "729179   4995     z.other  \n",
       "729180   4995     z.other  \n",
       "729181   4995     z.other  \n",
       "729182   4995     z.other  \n",
       "729183    789         NaN  \n",
       "729186    662  Republican  \n",
       "729189  27582  Democratic  \n",
       "729191   8192  Republican  \n",
       "729193  26493  Republican  \n",
       "729197   8943  Republican  \n",
       "729200   6961  Republican  \n",
       "729201   1853  Republican  \n",
       "729206   3972         NaN  \n",
       "729207   7281  Republican  \n",
       "729209   2960  Democratic  \n",
       "729210  12304  Republican  \n",
       "729211    834  Bipartisan  \n",
       "729219    992  Republican  \n",
       "729220    727         NaN  \n",
       "729221   4371  Democratic  \n",
       "729222   7445  Republican  \n",
       "\n",
       "[447337 rows x 25 columns]>"
      ]
     },
     "execution_count": 50,
     "metadata": {},
     "output_type": "execute_result"
    }
   ],
   "source": [
    "train.head"
   ]
  },
  {
   "cell_type": "code",
   "execution_count": null,
   "metadata": {
    "collapsed": true
   },
   "outputs": [],
   "source": []
  }
 ],
 "metadata": {
  "kernelspec": {
   "display_name": "Python 2",
   "language": "python",
   "name": "python2"
  },
  "language_info": {
   "codemirror_mode": {
    "name": "ipython",
    "version": 2
   },
   "file_extension": ".py",
   "mimetype": "text/x-python",
   "name": "python",
   "nbconvert_exporter": "python",
   "pygments_lexer": "ipython2",
   "version": "2.7.5"
  }
 },
 "nbformat": 4,
 "nbformat_minor": 0
}
