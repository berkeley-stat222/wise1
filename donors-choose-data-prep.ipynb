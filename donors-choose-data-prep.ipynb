{
 "cells": [
  {
   "cell_type": "code",
   "execution_count": 1,
   "metadata": {
    "collapsed": true
   },
   "outputs": [],
   "source": [
    "from __future__ import division\n",
    "import pandas as pd\n",
    "import numpy as np\n",
    "import matplotlib.pyplot as plt\n",
    "import pylab\n",
    "import re\n",
    "import string\n",
    "from operator import itemgetter\n",
    "from pandas import *"
   ]
  },
  {
   "cell_type": "markdown",
   "metadata": {},
   "source": [
    "# ---------------------------------------------------------------------------\n",
    "# Data Preparation\n",
    "# ---------------------------------------------------------------------------"
   ]
  },
  {
   "cell_type": "markdown",
   "metadata": {},
   "source": [
    "Global variables"
   ]
  },
  {
   "cell_type": "code",
   "execution_count": 2,
   "metadata": {
    "collapsed": true
   },
   "outputs": [],
   "source": [
    "state_rank_count = 50"
   ]
  },
  {
   "cell_type": "markdown",
   "metadata": {},
   "source": [
    "Read in opendata_projects file and donation_counts project file"
   ]
  },
  {
   "cell_type": "code",
   "execution_count": 3,
   "metadata": {
    "collapsed": false
   },
   "outputs": [],
   "source": [
    "projects = pd.read_csv('../Data/opendata_projects.csv', index_col = False)"
   ]
  },
  {
   "cell_type": "code",
   "execution_count": 4,
   "metadata": {
    "collapsed": true
   },
   "outputs": [],
   "source": [
    "donations = pd.read_csv('../Data/donations_counts.csv')"
   ]
  },
  {
   "cell_type": "markdown",
   "metadata": {},
   "source": [
    "Use \"shipping cost\" variable to created binary variable indicating whether a project has free shipping"
   ]
  },
  {
   "cell_type": "code",
   "execution_count": 5,
   "metadata": {
    "collapsed": false
   },
   "outputs": [],
   "source": [
    "shipping = projects.loc[:,['vendor_shipping_charges']]\n",
    "\n",
    "# if shipping_charges = 0 , t\n",
    "# if shipping_charges > 0 , f\n",
    "shipping[shipping == 0] = -1\n",
    "shipping[shipping > 0] = 'f'\n",
    "shipping[shipping == -1] = 't'\n",
    "\n",
    "shipping.columns = ['free_shipping']"
   ]
  },
  {
   "cell_type": "markdown",
   "metadata": {},
   "source": [
    "Function to count the number of days between start_date and complete_date"
   ]
  },
  {
   "cell_type": "code",
   "execution_count": 6,
   "metadata": {
    "collapsed": false
   },
   "outputs": [],
   "source": [
    "from dateutil.parser import parse\n",
    "import math\n",
    "import time\n",
    "\n",
    "def day_count(date0, date1):\n",
    "    if isinstance(date0, float) or isinstance(date1, float):\n",
    "        return 'NaN'\n",
    "    try:\n",
    "        delta = parse(date0) - parse(date1)\n",
    "        delta = delta.days\n",
    "        if delta < 0:\n",
    "            delta = 'NaN'       \n",
    "        elif delta == 0:\n",
    "            delta = 1      \n",
    "        else:\n",
    "            delta = delta\n",
    "    except Exception, e:\n",
    "        print date1, type(date1), date0, type(date0)\n",
    "        raise e\n",
    "    return delta"
   ]
  },
  {
   "cell_type": "markdown",
   "metadata": {},
   "source": [
    "Apply dayCount function over dataframe"
   ]
  },
  {
   "cell_type": "code",
   "execution_count": 7,
   "metadata": {
    "collapsed": false
   },
   "outputs": [],
   "source": [
    "def date_calc(row):\n",
    "    return day_count(row['date_completed'], row['date_posted'])\n",
    "date_diff = projects.apply(date_calc, 1)"
   ]
  },
  {
   "cell_type": "markdown",
   "metadata": {},
   "source": [
    "Create single vector dataframe of days to completion"
   ]
  },
  {
   "cell_type": "code",
   "execution_count": 8,
   "metadata": {
    "collapsed": false
   },
   "outputs": [],
   "source": [
    "days_to_comp = pd.DataFrame({'days_to_completion': pd.Series(date_diff)})"
   ]
  },
  {
   "cell_type": "markdown",
   "metadata": {},
   "source": [
    "Subset opendata_projects to include only live projects"
   ]
  },
  {
   "cell_type": "code",
   "execution_count": 9,
   "metadata": {
    "collapsed": false
   },
   "outputs": [],
   "source": [
    "live_projects = projects[projects.funding_status == 'live']"
   ]
  },
  {
   "cell_type": "markdown",
   "metadata": {},
   "source": [
    "Add column of current date so we can count open days"
   ]
  },
  {
   "cell_type": "code",
   "execution_count": 10,
   "metadata": {
    "collapsed": false
   },
   "outputs": [
    {
     "name": "stderr",
     "output_type": "stream",
     "text": [
      "/home/brianna/anaconda/lib/python2.7/site-packages/IPython/kernel/__main__.py:1: SettingWithCopyWarning: \n",
      "A value is trying to be set on a copy of a slice from a DataFrame.\n",
      "Try using .loc[row_indexer,col_indexer] = value instead\n",
      "\n",
      "See the the caveats in the documentation: http://pandas.pydata.org/pandas-docs/stable/indexing.html#indexing-view-versus-copy\n",
      "  if __name__ == '__main__':\n"
     ]
    }
   ],
   "source": [
    "live_projects['current_date'] = '2014-11-10'"
   ]
  },
  {
   "cell_type": "markdown",
   "metadata": {},
   "source": [
    "Apply dayCount over live projects"
   ]
  },
  {
   "cell_type": "code",
   "execution_count": 11,
   "metadata": {
    "collapsed": false
   },
   "outputs": [],
   "source": [
    "def date_calc2(row):\n",
    "    return day_count(row['current_date'], row['date_posted'])\n",
    "date_diff2 = live_projects.apply(date_calc2, 1)"
   ]
  },
  {
   "cell_type": "markdown",
   "metadata": {},
   "source": [
    "Create single vector dataframe of days open. If project live fewer than 30 days, set days live to NA"
   ]
  },
  {
   "cell_type": "code",
   "execution_count": 12,
   "metadata": {
    "collapsed": false
   },
   "outputs": [],
   "source": [
    "days_live = pd.DataFrame({'days_open': pd.Series(date_diff2)})"
   ]
  },
  {
   "cell_type": "markdown",
   "metadata": {},
   "source": [
    "Add the dataframes containing days_to_completion and days_open to projects dataframe"
   ]
  },
  {
   "cell_type": "code",
   "execution_count": 13,
   "metadata": {
    "collapsed": true
   },
   "outputs": [],
   "source": [
    "projects = pd.concat([projects, days_to_comp, days_live, shipping], axis = 1)"
   ]
  },
  {
   "cell_type": "markdown",
   "metadata": {},
   "source": [
    "Consider all reallocated projects and all projects live for more than 30 days as not funded at all. Delete all remaining live projects (which have been live for less than 30 days)"
   ]
  },
  {
   "cell_type": "code",
   "execution_count": 14,
   "metadata": {
    "collapsed": false
   },
   "outputs": [],
   "source": [
    "projects.ix[projects.days_to_completion <= 30, 'funded_by_30'] = 'Yes'\n",
    "projects.ix[projects.days_to_completion > 30, 'funded_by_30'] = 'No'\n",
    "projects.ix[projects.funding_status=='reallocated', 'funded_by_30'] = 'No'\n",
    "projects.ix[projects.days_open > 30, 'funded_by_30'] = 'No'\n",
    "\n",
    "projects = projects[projects.funded_by_30.notnull()]"
   ]
  },
  {
   "cell_type": "markdown",
   "metadata": {},
   "source": [
    "Create donor interest parameters by subject and poverty level"
   ]
  },
  {
   "cell_type": "markdown",
   "metadata": {},
   "source": [
    "By SUBJECT"
   ]
  },
  {
   "cell_type": "code",
   "execution_count": 15,
   "metadata": {
    "collapsed": true
   },
   "outputs": [],
   "source": [
    "# Deal with missing values\n",
    "index = np.where(projects['primary_focus_subject'].isnull())[0]\n",
    "projects.loc[index, 'primary_focus_subject'] = 'Missing'\n",
    "total_size = len(projects) \n",
    "total_donors = projects['num_donors'].sum()\n",
    "\n",
    "subjects = projects['primary_focus_subject']\n",
    "subjects = subjects.unique()\n",
    "subjects.sort()"
   ]
  },
  {
   "cell_type": "code",
   "execution_count": 16,
   "metadata": {
    "collapsed": true
   },
   "outputs": [],
   "source": [
    "num_donors_sub = projects.groupby(['primary_focus_subject']).sum()['num_donors']\n",
    "subjects_size = projects.groupby('primary_focus_subject').size()\n",
    "subjects_prop = subjects_size / total_size\n",
    "scaled_interest_par_sub = (num_donors_sub/total_donors)**2 /subjects_prop "
   ]
  },
  {
   "cell_type": "code",
   "execution_count": 17,
   "metadata": {
    "collapsed": true
   },
   "outputs": [],
   "source": [
    "df = pd.DataFrame({'primary_focus_subject': subjects, 'scaled_interest_par_sub' : scaled_interest_par_sub.values})\n",
    "projects = pd.merge(projects, df, left_on = 'primary_focus_subject', right_on='primary_focus_subject', how='left')"
   ]
  },
  {
   "cell_type": "markdown",
   "metadata": {},
   "source": [
    "By POVERTY LEVEL"
   ]
  },
  {
   "cell_type": "code",
   "execution_count": 18,
   "metadata": {
    "collapsed": true
   },
   "outputs": [],
   "source": [
    "#No Missing Values\n",
    "poverty = projects['poverty_level']\n",
    "poverty = poverty.unique()\n",
    "poverty.sort()"
   ]
  },
  {
   "cell_type": "code",
   "execution_count": 19,
   "metadata": {
    "collapsed": false
   },
   "outputs": [],
   "source": [
    "num_donors_pov = projects.groupby(['poverty_level']).sum()['num_donors']\n",
    "poverty_size = projects.groupby('poverty_level').size()\n",
    "poverty_prop = poverty_size / total_size\n",
    "scaled_interest_par_pov = (num_donors_pov/total_donors)**2 /poverty_prop"
   ]
  },
  {
   "cell_type": "code",
   "execution_count": 20,
   "metadata": {
    "collapsed": false
   },
   "outputs": [],
   "source": [
    "df = pd.DataFrame({'poverty_level': poverty, 'scaled_interest_par_pov' : scaled_interest_par_pov.values})\n",
    "projects_merged = pd.merge(projects, df, left_on = 'poverty_level', right_on='poverty_level', how='left')"
   ]
  },
  {
   "cell_type": "code",
   "execution_count": 21,
   "metadata": {
    "collapsed": false
   },
   "outputs": [],
   "source": [
    "#Replace missing values as NaN\n",
    "projects = projects.replace('Missing', np.nan)"
   ]
  },
  {
   "cell_type": "markdown",
   "metadata": {},
   "source": [
    "Combine city, state into city_state variable in projects dataframe"
   ]
  },
  {
   "cell_type": "code",
   "execution_count": 22,
   "metadata": {
    "collapsed": true
   },
   "outputs": [],
   "source": [
    "projects['city_state'] = projects['school_city'] + ', ' + projects['school_state']"
   ]
  },
  {
   "cell_type": "markdown",
   "metadata": {},
   "source": [
    "Get the count of the completed projects from each city_state\n",
    "and create levels from the top 50, and group all remaining into 51st category"
   ]
  },
  {
   "cell_type": "code",
   "execution_count": 23,
   "metadata": {
    "collapsed": false
   },
   "outputs": [],
   "source": [
    "comp = projects[projects.funding_status == 'completed']\n",
    "counts = comp['city_state'].value_counts()\n",
    "ranks = pd.DataFrame([x+1 for x in range(counts.shape[0])], columns = ['completion_rank'])\n",
    "names = pd.DataFrame(counts.index, columns = ['city_state'])"
   ]
  },
  {
   "cell_type": "code",
   "execution_count": 24,
   "metadata": {
    "collapsed": false
   },
   "outputs": [],
   "source": [
    "ranks = pd.concat([names, ranks], axis = 1)\n",
    "ranks['city_state_cat'] = ranks['city_state']"
   ]
  },
  {
   "cell_type": "code",
   "execution_count": 25,
   "metadata": {
    "collapsed": false
   },
   "outputs": [
    {
     "name": "stderr",
     "output_type": "stream",
     "text": [
      "/home/brianna/anaconda/lib/python2.7/site-packages/IPython/kernel/__main__.py:1: SettingWithCopyWarning: \n",
      "A value is trying to be set on a copy of a slice from a DataFrame\n",
      "\n",
      "See the the caveats in the documentation: http://pandas.pydata.org/pandas-docs/stable/indexing.html#indexing-view-versus-copy\n",
      "  if __name__ == '__main__':\n"
     ]
    }
   ],
   "source": [
    "ranks['city_state_cat'][ranks.completion_rank > state_rank_count] = 'Other'"
   ]
  },
  {
   "cell_type": "markdown",
   "metadata": {},
   "source": [
    "Join the ranks table and projects table on the city_state columns"
   ]
  },
  {
   "cell_type": "code",
   "execution_count": 26,
   "metadata": {
    "collapsed": false
   },
   "outputs": [],
   "source": [
    "projects = projects.merge(ranks, how = 'right', on = 'city_state')"
   ]
  },
  {
   "cell_type": "markdown",
   "metadata": {},
   "source": [
    "Join the donations table and projects table on the city_state column"
   ]
  },
  {
   "cell_type": "code",
   "execution_count": 27,
   "metadata": {
    "collapsed": false
   },
   "outputs": [],
   "source": [
    "projects = projects.merge(donations, how = 'right', on = 'city_state')"
   ]
  },
  {
   "cell_type": "markdown",
   "metadata": {
    "collapsed": true
   },
   "source": [
    "Read in outside data"
   ]
  },
  {
   "cell_type": "code",
   "execution_count": 28,
   "metadata": {
    "collapsed": false
   },
   "outputs": [],
   "source": [
    "outside_dat =  pd.read_csv('../Data/outside_dat.csv', dtype = {'zip': np.str_, 'med_inc': np.float64, 'pop': np.float64, 'party': np.str_})"
   ]
  },
  {
   "cell_type": "markdown",
   "metadata": {},
   "source": [
    "Merge outside_data with projects"
   ]
  },
  {
   "cell_type": "code",
   "execution_count": 29,
   "metadata": {
    "collapsed": false
   },
   "outputs": [],
   "source": [
    "projects = projects.merge(outside_dat, on = 'school_zip', how='left')"
   ]
  },
  {
   "cell_type": "markdown",
   "metadata": {},
   "source": [
    "Create test set (~20%) by selecting projects posted from Nov 2013 onwards. Then create training (~60%) and validation (~20%) sets."
   ]
  },
  {
   "cell_type": "markdown",
   "metadata": {},
   "source": [
    "Drop last 20986 rows because those rows only have outside data"
   ]
  },
  {
   "cell_type": "code",
   "execution_count": 37,
   "metadata": {
    "collapsed": true
   },
   "outputs": [],
   "source": [
    "projects = projects.drop(projects.tail(20986).index)"
   ]
  },
  {
   "cell_type": "markdown",
   "metadata": {},
   "source": [
    "Save as a data frame for preliminary modeling"
   ]
  },
  {
   "cell_type": "markdown",
   "metadata": {},
   "source": [
    "# ---------------------------------------------------------------------------\n",
    "# Generate test set / training set\n",
    "# ---------------------------------------------------------------------------"
   ]
  },
  {
   "cell_type": "markdown",
   "metadata": {},
   "source": [
    "Create test set (~20%) by selecting projects posted from Nov 2013 onwards. Then create training (~80%)"
   ]
  },
  {
   "cell_type": "code",
   "execution_count": 38,
   "metadata": {
    "collapsed": false
   },
   "outputs": [],
   "source": [
    "def split_train_test(date):\n",
    "    if isinstance(date, float):\n",
    "        return 'NaN'\n",
    "    try:\n",
    "        date = parse(date)\n",
    "        day = date.day\n",
    "        month = date.month\n",
    "        year = date.year\n",
    "    except Exception, e:\n",
    "        print date, type(date)\n",
    "        raise e\n",
    "    if year == 2014 or (year == 2013 and (month == 11 or month == 12)):\n",
    "        return 'Test'\n",
    "    else:\n",
    "        return 'Train'"
   ]
  },
  {
   "cell_type": "code",
   "execution_count": 39,
   "metadata": {
    "collapsed": false
   },
   "outputs": [],
   "source": [
    "projects['train_test_label'] = [split_train_test(x) for x in projects.date_posted]\n",
    "\n",
    "train = projects[projects.train_test_label == 'Train']\n",
    "test = projects[projects.train_test_label == 'Test']"
   ]
  },
  {
   "cell_type": "markdown",
   "metadata": {},
   "source": [
    "Remove unnecessary columns from projects dataframe\n",
    "\n",
    "Removed: _projectid, _teacher_acctid, _schoolid, school_ncesid, school_latitude, school_longitude, school_city, school_state, school_zip, school_district, school_county, school_kipp, school_charter_ready_promise, primary_focus_area, secondary_focus_area, vendor_shipping_charges, sales_tax, payment_processing_charges, fulfillment_labor_materials, total_price_including_optional_support, students_reached, total_donations, num_donors, eligible_double_your_impact_match, eligible_almost_home_match, funding_status, date_posted, date_completed, date_thank_you_packet_mailed, date_expiration"
   ]
  },
  {
   "cell_type": "code",
   "execution_count": 40,
   "metadata": {
    "collapsed": true
   },
   "outputs": [],
   "source": [
    "drop_cols = ['_projectid', '_teacher_acctid', '_schoolid', 'school_ncesid', 'school_latitude', 'school_longitude',\n",
    "             'school_city', 'school_state', 'school_zip', 'school_district', 'school_county', 'school_kipp',\n",
    "             'school_charter_ready_promise', 'primary_focus_area', 'secondary_focus_area', 'vendor_shipping_charges',\n",
    "             'sales_tax', 'payment_processing_charges', 'fulfillment_labor_materials', 'total_price_including_optional_support',\n",
    "             'students_reached', 'total_donations', 'num_donors', 'eligible_double_your_impact_match', \n",
    "             'eligible_almost_home_match', 'funding_status', 'date_posted', 'date_completed', 'date_thank_you_packet_mailed',\n",
    "             'date_expiration', 'secondary_focus_subject', 'Unnamed: 0']"
   ]
  },
  {
   "cell_type": "code",
   "execution_count": 41,
   "metadata": {
    "collapsed": false
   },
   "outputs": [],
   "source": [
    "projects_modified = projects.drop(drop_cols, axis = 1)"
   ]
  },
  {
   "cell_type": "code",
   "execution_count": 42,
   "metadata": {
    "collapsed": true
   },
   "outputs": [],
   "source": [
    "projects_modified.to_csv('../Data/projects_prelim_data.csv')"
   ]
  },
  {
   "cell_type": "code",
   "execution_count": null,
   "metadata": {
    "collapsed": true
   },
   "outputs": [],
   "source": []
  }
 ],
 "metadata": {
  "kernelspec": {
   "display_name": "Python 2",
   "language": "python",
   "name": "python2"
  },
  "language_info": {
   "codemirror_mode": {
    "name": "ipython",
    "version": 2
   },
   "file_extension": ".py",
   "mimetype": "text/x-python",
   "name": "python",
   "nbconvert_exporter": "python",
   "pygments_lexer": "ipython2",
   "version": "2.7.9"
  }
 },
 "nbformat": 4,
 "nbformat_minor": 0
}
