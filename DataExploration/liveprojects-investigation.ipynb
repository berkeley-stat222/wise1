{
 "cells": [
  {
   "cell_type": "markdown",
   "metadata": {},
   "source": [
    "This file investigates specifically the projects that were live at the time of the csv creation."
   ]
  },
  {
   "cell_type": "code",
   "execution_count": 1,
   "metadata": {
    "collapsed": true
   },
   "outputs": [],
   "source": [
    "import pandas as pd \n",
    "import numpy as np\n",
    "import matplotlib.pyplot as plt\n",
    "import pylab"
   ]
  },
  {
   "cell_type": "code",
   "execution_count": 2,
   "metadata": {
    "collapsed": false
   },
   "outputs": [],
   "source": [
    "projects = pd.read_csv('Documents/wise/Data/projects_modified.csv')"
   ]
  },
  {
   "cell_type": "code",
   "execution_count": 3,
   "metadata": {
    "collapsed": false
   },
   "outputs": [],
   "source": [
    "liveProjects = projects[projects.funding_status == 'live']"
   ]
  },
  {
   "cell_type": "code",
   "execution_count": 4,
   "metadata": {
    "collapsed": false
   },
   "outputs": [
    {
     "data": {
      "text/plain": [
       "Index([u'Unnamed: 0', u'_projectid', u'_teacher_acctid', u'_schoolid', u'school_ncesid', u'school_latitude', u'school_longitude', u'school_city', u'school_state', u'school_zip', u'school_metro', u'school_district', u'school_county', u'school_charter', u'school_magnet', u'school_year_round', u'school_nlns', u'school_kipp', u'school_charter_ready_promise', u'teacher_prefix', u'teacher_teach_for_america', u'teacher_ny_teaching_fellow', u'primary_focus_subject', u'primary_focus_area', u'secondary_focus_subject', u'secondary_focus_area', u'resource_type', u'poverty_level', u'grade_level', u'vendor_shipping_charges', u'sales_tax', u'payment_processing_charges', u'fulfillment_labor_materials', u'total_price_excluding_optional_support', u'total_price_including_optional_support', u'students_reached', u'total_donations', u'num_donors', u'eligible_double_your_impact_match', u'eligible_almost_home_match', u'funding_status', u'date_posted', u'date_completed', u'date_thank_you_packet_mailed', u'date_expiration', u'days_to_completion', u'days_open'], dtype='object')"
      ]
     },
     "execution_count": 4,
     "metadata": {},
     "output_type": "execute_result"
    }
   ],
   "source": [
    "liveProjects.columns"
   ]
  },
  {
   "cell_type": "markdown",
   "metadata": {},
   "source": [
    "Drop the first column - it contains row numbers, which is an artifact from the csv"
   ]
  },
  {
   "cell_type": "code",
   "execution_count": 5,
   "metadata": {
    "collapsed": false
   },
   "outputs": [],
   "source": [
    "liveProjects['Unnamed: 0']\n",
    "liveProjects = liveProjects.drop([\"Unnamed: 0\"], axis=1)"
   ]
  },
  {
   "cell_type": "code",
   "execution_count": 6,
   "metadata": {
    "collapsed": false
   },
   "outputs": [
    {
     "data": {
      "text/plain": [
       "Index([u'_projectid', u'_teacher_acctid', u'_schoolid', u'school_ncesid', u'school_latitude', u'school_longitude', u'school_city', u'school_state', u'school_zip', u'school_metro', u'school_district', u'school_county', u'school_charter', u'school_magnet', u'school_year_round', u'school_nlns', u'school_kipp', u'school_charter_ready_promise', u'teacher_prefix', u'teacher_teach_for_america', u'teacher_ny_teaching_fellow', u'primary_focus_subject', u'primary_focus_area', u'secondary_focus_subject', u'secondary_focus_area', u'resource_type', u'poverty_level', u'grade_level', u'vendor_shipping_charges', u'sales_tax', u'payment_processing_charges', u'fulfillment_labor_materials', u'total_price_excluding_optional_support', u'total_price_including_optional_support', u'students_reached', u'total_donations', u'num_donors', u'eligible_double_your_impact_match', u'eligible_almost_home_match', u'funding_status', u'date_posted', u'date_completed', u'date_thank_you_packet_mailed', u'date_expiration', u'days_to_completion', u'days_open'], dtype='object')"
      ]
     },
     "execution_count": 6,
     "metadata": {},
     "output_type": "execute_result"
    }
   ],
   "source": [
    "liveProjects.columns"
   ]
  },
  {
   "cell_type": "markdown",
   "metadata": {},
   "source": [
    "Subset to include certain variables of interest"
   ]
  },
  {
   "cell_type": "code",
   "execution_count": 7,
   "metadata": {
    "collapsed": false
   },
   "outputs": [],
   "source": [
    "varsOfInterest = liveProjects[['_teacher_acctid','_schoolid','school_latitude','school_longitude',\n",
    "                               'school_city','school_state','school_zip','primary_focus_subject',\n",
    "                               'primary_focus_area','resource_type','poverty_level','grade_level',\n",
    "                               'total_price_excluding_optional_support','total_price_including_optional_support',\n",
    "                               'date_posted','date_expiration','days_open']]"
   ]
  },
  {
   "cell_type": "code",
   "execution_count": 8,
   "metadata": {
    "collapsed": false
   },
   "outputs": [],
   "source": [
    "dayplot = varsOfInterest.days_open.plot(kind='hist', title='Days Open of Live Projects')\n",
    "dayplot.set_xlabel('Days')\n",
    "pylab.show()"
   ]
  },
  {
   "cell_type": "code",
   "execution_count": null,
   "metadata": {
    "collapsed": true
   },
   "outputs": [],
   "source": []
  }
 ],
 "metadata": {
  "kernelspec": {
   "display_name": "Python 2",
   "language": "python",
   "name": "python2"
  },
  "language_info": {
   "codemirror_mode": {
    "name": "ipython",
    "version": 2
   },
   "file_extension": ".py",
   "mimetype": "text/x-python",
   "name": "python",
   "nbconvert_exporter": "python",
   "pygments_lexer": "ipython2",
   "version": "2.7.9"
  }
 },
 "nbformat": 4,
 "nbformat_minor": 0
}
